{
 "cells": [
  {
   "cell_type": "code",
   "execution_count": null,
   "id": "0e1d5c99-eefe-4840-8e7f-b7fabd4b8014",
   "metadata": {},
   "outputs": [],
   "source": [
    "                                              Assignment Questions "
   ]
  },
  {
   "cell_type": "code",
   "execution_count": null,
   "id": "b7e6d6b2-8106-4896-947f-87ca2b7581fa",
   "metadata": {},
   "outputs": [],
   "source": [
    "# 1. What is a parameter? \n",
    "\n",
    "# A parameter in Machine Learning refers to the variables that define a model's structure, such as weights in a neural network. These are learned from data during training."
   ]
  },
  {
   "cell_type": "code",
   "execution_count": null,
   "id": "bd42c015-eb6a-4c2c-b930-87f2d9175126",
   "metadata": {},
   "outputs": [],
   "source": [
    "# 2. What is correlation?\n",
    "# What does negative correlation mean? \n",
    "\n",
    "# Correlation measures the relationship between two variables. A positive correlation means that as one value increases, the other also increases. A negative correlation means that as one value increases, the other decreases.\n",
    "# Example:\n",
    "# Positive correlation: Height and weight—taller people often weigh more.\n",
    "# Negative correlation: Hours of exercise and body fat percentage—more exercise usually reduces body fat."
   ]
  },
  {
   "cell_type": "code",
   "execution_count": null,
   "id": "2d7f9cd9-9259-4320-bcbf-4415922ccd74",
   "metadata": {},
   "outputs": [],
   "source": [
    "# 3. Define Machine Learning. What are the main components in Machine Learning? \n",
    "\n",
    "# Machine Learning (ML) is a field of Artificial Intelligence that enables computers to learn patterns from data and make predictions.\n",
    "# Main components:\n",
    "# Data – The raw information used for training.\n",
    "# Features – Characteristics used to make predictions (e.g., age, salary).\n",
    "# Model – The algorithm that finds patterns (e.g., Decision Trees, Neural Networks).\n",
    "# Loss Function – Measures how far predictions are from actual values.\n",
    "# Optimizer – Adjusts model parameters to improve accuracy."
   ]
  },
  {
   "cell_type": "code",
   "execution_count": null,
   "id": "7ab71770-d415-4256-8f69-cfddfe624c95",
   "metadata": {},
   "outputs": [],
   "source": [
    "# 4. How does loss value help in determining whether the model is good or not? \n",
    "\n",
    "# The loss value tells us how well the model is performing.\n",
    "# Low loss = Good model (accurate predictions).\n",
    "# High loss = Poor model (incorrect predictions).\n",
    "# Example: In linear regression, loss is measured using Mean Squared Error (MSE), where lower values indicate better performance."
   ]
  },
  {
   "cell_type": "code",
   "execution_count": null,
   "id": "c4003c90-df80-4aed-aef4-90f79ee228c1",
   "metadata": {},
   "outputs": [],
   "source": [
    "# 5. What are continuous and categorical variables? \n",
    "\n",
    "# Continuous Variables: Numeric values with infinite possibilities (e.g., age, temperature).\n",
    "# Categorical Variables: Discrete groups or labels (e.g., gender, city).\n",
    "# Example: In a dataset of students, age is continuous, while grade (A, B, C) is categorical."
   ]
  },
  {
   "cell_type": "code",
   "execution_count": null,
   "id": "b7ff8d01-4ac0-418e-ac19-3de93f6c81eb",
   "metadata": {},
   "outputs": [],
   "source": [
    "# 6. How do we handle categorical variables in Machine Learning? What are the common t echniques? \n",
    "\n",
    "# Common techniques:\n",
    "\n",
    "# Label Encoding – Assigns numbers (e.g., Male → 0, Female → 1).\n",
    "# One-Hot Encoding – Creates separate columns for each category.\n",
    "# Ordinal Encoding – Used when categories have a ranking (e.g., Low → 1, Medium → 2, High → 3).\n"
   ]
  },
  {
   "cell_type": "code",
   "execution_count": null,
   "id": "7bd7605c-b58c-4792-b088-3ad45e959916",
   "metadata": {},
   "outputs": [],
   "source": [
    "# 7. What do you mean by training and testing a dataset? \n",
    "\n",
    "# Training dataset: Used to teach the model patterns in data/.\n",
    "# Testing dataset: Used to evaluate how well the model performs on unseen data."
   ]
  },
  {
   "cell_type": "code",
   "execution_count": null,
   "id": "04edc283-e770-48e9-9be7-4d277628381d",
   "metadata": {},
   "outputs": [],
   "source": [
    "# 8. What is sklearn.preprocessing? \n",
    "\n",
    "# A Scikit-Learn module for data preprocessing, including scaling, encoding, and normalization techniques."
   ]
  },
  {
   "cell_type": "code",
   "execution_count": null,
   "id": "5a63978d-8afb-4042-aa69-8eb9b7e6a5d8",
   "metadata": {},
   "outputs": [],
   "source": [
    "# 9. What is a Test set? \n",
    "\n",
    "# The test set is the portion of data used to evaluate the model’s performance, ensuring it generalizes well to new data."
   ]
  },
  {
   "cell_type": "code",
   "execution_count": 3,
   "id": "3fe31565-9128-4f86-b567-295f021e30bd",
   "metadata": {},
   "outputs": [],
   "source": [
    "# 10. How do we split data for model fitting (training and testing) in Python? \n",
    "# How do you approach a Machine Learning problem? \n",
    "\n",
    "# Using Scikit-Learn’s train_test_split:\n",
    "\n",
    "from sklearn.model_selection import train_test_split\n",
    "import numpy as np\n",
    "\n",
    "X = np.random.rand(100, 5)  # Features\n",
    "y = np.random.rand(100)  # Target\n",
    "\n",
    "X_train, X_test, y_train, y_test = train_test_split(X, y, test_size=0.2)\n"
   ]
  },
  {
   "cell_type": "code",
   "execution_count": null,
   "id": "542a6c97-187c-4429-9f42-6e5096135089",
   "metadata": {},
   "outputs": [],
   "source": [
    "# 11. Why do we have to perform EDA before fitting a model to the data? \n",
    "\n",
    "# Exploratory Data Analysis (EDA) helps understand data structure, detect errors, and choose the right preprocessing steps.\n",
    "\n",
    "# Common EDA techniques:\n",
    "    \n",
    "# Checking missing values.\n",
    "# Visualizing distributions.\n",
    "# Understanding correlations using heatmaps."
   ]
  },
  {
   "cell_type": "code",
   "execution_count": null,
   "id": "3f88b1ce-7691-43d8-898d-817a028ed05b",
   "metadata": {},
   "outputs": [],
   "source": [
    "# 12. What is correlation? \n",
    "\n",
    "# Correlation measures the relationship between two variables—how they move together."
   ]
  },
  {
   "cell_type": "code",
   "execution_count": null,
   "id": "cdf40a5c-5244-4b33-a1d2-8e8e2805d94f",
   "metadata": {},
   "outputs": [],
   "source": [
    "# 13. What does negative correlation mean? \n",
    "\n",
    "# Negative correlation: When one variable increases, the other decreases. (Example: More exercise → Lower body fat)"
   ]
  },
  {
   "cell_type": "code",
   "execution_count": null,
   "id": "908ad8b7-d1c3-4150-bb1b-e60e1919af44",
   "metadata": {},
   "outputs": [],
   "source": [
    "# 14. How can you find correlation between variables in Python? \n",
    "\n",
    "import pandas as pd\n",
    "\n",
    "data = {'A': [1, 2, 3], 'B': [2, 4, 6]}\n",
    "df = pd.DataFrame(data)\n",
    "print(df.corr())  # Compute correlation\n"
   ]
  },
  {
   "cell_type": "code",
   "execution_count": null,
   "id": "4fc2c767-e6e4-46de-9ff4-5729b3773f3a",
   "metadata": {},
   "outputs": [],
   "source": [
    "# 15. What is causation? Explain difference between correlation and causation with an example.\n",
    "\n",
    "# Causation means that one variable directly affects another. In other words, a change in one variable causes a change in the other.\n",
    "\n",
    "# Difference Between Correlation & Causation\n",
    "# Correlation simply shows that two variables are related, but it doesn’t prove that one causes the other.\n",
    "\n",
    "# Causation confirms that one variable is the reason for the change in another."
   ]
  },
  {
   "cell_type": "code",
   "execution_count": null,
   "id": "e01b67c8-4c66-468c-a1ac-17c031bf3eec",
   "metadata": {},
   "outputs": [],
   "source": [
    "# 16. What is an Optimizer? What are different types of optimizers? Explain each with an example.\n",
    "\n",
    "# An optimizer is an algorithm that adjusts the parameters (weights) of a machine learning model to minimize error (loss). It helps the model improve predictions by finding the best values for parameters.\n",
    "\n",
    "# Types of Optimizers (With Examples)\n",
    "# 1. Gradient Descent\n",
    "# The most basic optimizer that updates weights based on the gradient of the loss function.\n",
    "\n",
    "# 2. Stochastic Gradient Descent (SGD)\n",
    "# A variation of gradient descent that updates weights using one random sample at a time, instead of the entire dataset.\n",
    "\n",
    "# Pros: Faster for large datasets.\n",
    "\n",
    "# Cons: May not always find the best solution.\n",
    "\n",
    "\n",
    "# 3. Adam (Adaptive Moment Estimation)\n",
    "# Combines momentum and adaptive learning rates to make training efficient.\n",
    "\n",
    "# Pros: Works well with deep learning models.\n",
    "\n",
    "# Cons: Can sometimes overfit.\n",
    "\n",
    "\n",
    "# 4. RMSprop (Root Mean Square Propagation)\n",
    "# Keeps track of past gradients and adjusts learning rates dynamically.\n",
    "\n",
    "# Pros: Performs well in deep learning applications.\n",
    "\n",
    "# Cons: Learning rate tuning is important.\n"
   ]
  },
  {
   "cell_type": "code",
   "execution_count": null,
   "id": "85fc7207-fe6f-46ab-a6c5-755ee74c2473",
   "metadata": {},
   "outputs": [],
   "source": [
    "17. What is sklearn.linear_model?\n",
    "sklearn.linear_model is a module in the scikit-learn library that provides classes for various linear models such as:\n",
    "\n",
    " LinearRegression (for regression tasks),\n",
    " LogisticRegression (for classification tasks),\n",
    " Ridge, Lasso, and others for regularized linear modeling.\n",
    "\n"
   ]
  },
  {
   "cell_type": "code",
   "execution_count": null,
   "id": "efc6b12e-09af-45e9-8583-18b211e62566",
   "metadata": {},
   "outputs": [],
   "source": [
    "18. What does model.fit() do? What arguments must be given?\n",
    "model.fit() trains (or fits) the machine learning model on the provided data.\n",
    "Arguments:\n",
    "\n",
    " X: Features (independent variables), typically a 2D array or DataFrame.\n",
    " y: Target (dependent variable), typically a 1D array or Series.\n",
    "\n",
    "python\n",
    "model.fit(X, y)\n",
    "\n",
    "\n"
   ]
  },
  {
   "cell_type": "code",
   "execution_count": null,
   "id": "a3c52c69-b750-4a92-8c7b-0855299beaff",
   "metadata": {},
   "outputs": [],
   "source": [
    "19. What does model.predict() do? What arguments must be given?\n",
    "model.predict() makes predictions using the trained model on new/unseen data.\n",
    "Arguments:\n",
    "\n",
    " X: New input data for which predictions are to be made.\n",
    "\n",
    "python\n",
    "predictions = model.predict(X_new)\n",
    "\n",
    "\n"
   ]
  },
  {
   "cell_type": "code",
   "execution_count": null,
   "id": "ee793442-6038-44ae-9274-77d891ecdd1d",
   "metadata": {},
   "outputs": [],
   "source": [
    "20. What are continuous and categorical variables?\n",
    "\n",
    " Continuous variables: Numeric variables that can take any value within a range (e.g., height, weight, income).\n",
    " Categorical variables: Variables with discrete values, often representing categories (e.g., gender, color, type).\n",
    "\n"
   ]
  },
  {
   "cell_type": "code",
   "execution_count": null,
   "id": "3dacbb1d-a90a-4db5-903c-0350be807f86",
   "metadata": {},
   "outputs": [],
   "source": [
    "21. What is feature scaling? How does it help in Machine Learning?\n",
    "Feature scaling transforms input features to a similar scale, which helps algorithms converge faster and improves model performance, especially for algorithms sensitive to the scale (e.g., k-NN, SVM, gradient descent-based models).\n",
    "\n"
   ]
  },
  {
   "cell_type": "code",
   "execution_count": null,
   "id": "0ef4da0e-de3f-4ab8-a6f1-25cdf0531e6c",
   "metadata": {},
   "outputs": [],
   "source": [
    "22. How do we perform scaling in Python?\n",
    "Using sklearn.preprocessing:\n",
    "\n",
    "python\n",
    "from sklearn.preprocessing import StandardScaler\n",
    "\n",
    "scaler = StandardScaler()\n",
    "X_scaled = scaler.fit_transform(X)\n",
    "\n",
    "\n",
    "Common scalers:\n",
    "\n",
    " StandardScaler: Standardizes to zero mean and unit variance.\n",
    " MinMaxScaler: Scales features to a given range (usually \\[0, 1]).\n",
    "\n"
   ]
  },
  {
   "cell_type": "code",
   "execution_count": null,
   "id": "faa83007-50ff-4108-9955-42652868ce6d",
   "metadata": {},
   "outputs": [],
   "source": [
    "23. What is sklearn.preprocessing?\n",
    "A module in scikit-learn for pre-processing tasks like:\n",
    "\n",
    " Feature scaling (StandardScaler, MinMaxScaler),\n",
    " Encoding categorical variables (OneHotEncoder, LabelEncoder),\n",
    " Imputation of missing values (SimpleImputer).\n",
    "\n"
   ]
  },
  {
   "cell_type": "code",
   "execution_count": null,
   "id": "bdf73caf-e391-4155-8a6b-d516f92dc22b",
   "metadata": {},
   "outputs": [],
   "source": [
    "24. How do we split data for model fitting (training and testing) in Python?\n",
    "Use train_test_split from sklearn.model_selection:\n",
    "\n",
    "python\n",
    "from sklearn.model_selection import train_test_split\n",
    "\n",
    "X_train, X_test, y_train, y_test = train_test_split(X, y, test_size=0.2, random_state=42)\n",
    "\n",
    "\n"
   ]
  },
  {
   "cell_type": "code",
   "execution_count": null,
   "id": "3e27ca0d-7bd8-4a17-bf8f-03387b092258",
   "metadata": {},
   "outputs": [],
   "source": [
    "25. Explain data encoding.\n",
    "Data encoding converts categorical data into numerical format so that machine learning algorithms can use them. Common methods:\n",
    "\n",
    " Label Encoding: Converts each category to a unique integer.\n",
    " One-Hot Encoding: Creates binary columns for each category.\n",
    "\n",
    "python\n",
    "from sklearn.preprocessing import OneHotEncoder\n",
    "\n",
    "encoder = OneHotEncoder()\n",
    "X_encoded = encoder.fit_transform(X_categorical)\n",
    "\n",
    "\n",
    "Let me know if you'd like examples or code demonstrations for any of these!"
   ]
  }
 ],
 "metadata": {
  "kernelspec": {
   "display_name": "Python 3 (ipykernel)",
   "language": "python",
   "name": "python3"
  },
  "language_info": {
   "codemirror_mode": {
    "name": "ipython",
    "version": 3
   },
   "file_extension": ".py",
   "mimetype": "text/x-python",
   "name": "python",
   "nbconvert_exporter": "python",
   "pygments_lexer": "ipython3",
   "version": "3.12.7"
  }
 },
 "nbformat": 4,
 "nbformat_minor": 5
}
